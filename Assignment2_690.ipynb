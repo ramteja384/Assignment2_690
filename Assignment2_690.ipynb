{
 "cells": [
  {
   "cell_type": "code",
   "execution_count": 4,
   "metadata": {},
   "outputs": [
    {
     "name": "stdout",
     "output_type": "stream",
     "text": [
      "Enter Ten Integers:\n",
      "Enter Integer 1: 12\n",
      "Enter Integer 2: 45\n",
      "Enter Integer 3: 2\n",
      "Enter Integer 4: 0\n",
      "Enter Integer 5: 15\n",
      "Enter Integer 6: 87\n",
      "Enter Integer 7: 78\n",
      "Enter Integer 8: 65\n",
      "Enter Integer 9: 57\n",
      "Enter Integer 10: 00\n",
      "\n",
      "The Entered Integers are: [12, 45, 2, 0, 15, 87, 78, 65, 57, 0]\n",
      "\n",
      "Minimum of the Ten Integers is:  0\n",
      "\n",
      "Maximum of the Ten Integers is:  87\n",
      "\n",
      "Range of the Ten Integers is:  87\n",
      "\n",
      "Mean of the Ten Integers is:  36.1\n",
      "\n",
      "Variance of the Ten Integers is:  1049.2899999999997\n",
      "\n",
      "Standard Deviation of the Ten Integers is: 32.39274610155798\n"
     ]
    }
   ],
   "source": [
    "print(\"Enter Ten Integers:\")\n",
    "integers=[]                                                                     #List for Storing the given integers\n",
    "i=0\n",
    "while i<10:\n",
    "  value=input(\"Enter Integer {}: \".format(i+1))\n",
    "  try:\n",
    "    value=int(value)                                                            #Checking if the given input is integer or not\n",
    "    integers.append(value)\n",
    "    i+=1\n",
    "  except:\n",
    "    print(\"The Input is not Integer\")\n",
    "print()\n",
    "print(\"The Entered Integers are:\",integers)                                     #Printing the integers\n",
    "print()\n",
    "print(\"Minimum of the Ten Integers is: \",min(integers))                         #Printing Minimum of the given integers\n",
    "print()\n",
    "print(\"Maximum of the Ten Integers is: \",max(integers))                         #Printing Maximum of the given integers\n",
    "print()\n",
    "range=max(integers)-min(integers)                                               #Calculating Range\n",
    "print(\"Range of the Ten Integers is: \",range)                                   #Printing Range of the given integers\n",
    "print()\n",
    "mean=sum(integers)/10                                                           #Calculating Mean(Sum of integers/number of integers)\n",
    "print(\"Mean of the Ten Integers is: \",mean)                                     #Printing Mean of the given integers\n",
    "print()\n",
    "\n",
    "c=0\n",
    "for val in integers:\n",
    "  c+=(val-mean)**2\n",
    "variance = c/10\n",
    "print(\"Variance of the Ten Integers is: \",variance)                             #Printing Variance\n",
    "print()\n",
    "print(\"Standard Deviation of the Ten Integers is:\",variance**(1/2)) "
   ]
  },
  {
   "cell_type": "code",
   "execution_count": null,
   "metadata": {},
   "outputs": [],
   "source": []
  }
 ],
 "metadata": {
  "kernelspec": {
   "display_name": "Python 3",
   "language": "python",
   "name": "python3"
  },
  "language_info": {
   "codemirror_mode": {
    "name": "ipython",
    "version": 3
   },
   "file_extension": ".py",
   "mimetype": "text/x-python",
   "name": "python",
   "nbconvert_exporter": "python",
   "pygments_lexer": "ipython3",
   "version": "3.8.5"
  }
 },
 "nbformat": 4,
 "nbformat_minor": 4
}
